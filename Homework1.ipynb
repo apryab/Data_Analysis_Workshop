{
 "cells": [
  {
   "cell_type": "markdown",
   "metadata": {},
   "source": [
    "# Task 8"
   ]
  },
  {
   "cell_type": "code",
   "execution_count": 8,
   "metadata": {},
   "outputs": [
    {
     "name": "stdout",
     "output_type": "stream",
     "text": [
      "HI\n",
      "\n",
      "\n",
      "This is rps game. Rules are simple: rock beats scissors, scissors beat paper and paper beats rock\n",
      "\n",
      "\n",
      "You will be able to play with you friend consequenty. If you want to play print 1, if you don't want to play, print 0\n",
      "1\n",
      "Player 1, ready!\n",
      "\n",
      "Choose your element:\n",
      "\n",
      "Print 1 to choose scissors\n",
      "Print 2 to choose rock\n",
      "Print 3 to choose paper\n",
      "2\n",
      "Player 2, ready!\n",
      "\n",
      "Choose your element:\n",
      "\n",
      "Print 1 to choose scissors\n",
      "Print 2 to choose rock\n",
      "Print 3 to choose paper\n",
      "1\n",
      "Player 1 is the winner!!!\n",
      "\n",
      "Do you wanna play again?\n",
      "If you answer is yes, print 1, if no, print 0\n",
      "\n",
      "0\n",
      "THE END\n"
     ]
    }
   ],
   "source": [
    "import numpy as np\n",
    "import time\n",
    "import math\n",
    "import csv\n",
    "decision=50\n",
    "flag=10\n",
    "print(\"HI\")\n",
    "print(\"\\n\")\n",
    "print(\"This is rps game. Rules are simple: rock beats scissors, scissors beat paper and paper beats rock\")\n",
    "print(\"\\n\")\n",
    "print(\"You will be able to play with you friend consequenty. If you want to play print 1, if you don't want to play, print 0\")\n",
    "decision=int(input())\n",
    "while(decision!=0):\n",
    "    if(decision==1):\n",
    "        print(\"Player 1, ready!\\n\")\n",
    "        print(\"Choose your element:\\n\")\n",
    "        print(\"Print 1 to choose scissors\\nPrint 2 to choose rock\\nPrint 3 to choose paper\")\n",
    "        player1_decision=int(input())\n",
    "        print(\"Player 2, ready!\\n\")\n",
    "        print(\"Choose your element:\\n\")\n",
    "        print(\"Print 1 to choose scissors\\nPrint 2 to choose rock\\nPrint 3 to choose paper\")\n",
    "        player2_decision=int(input())\n",
    "        if(player1_decision-player2_decision==1) or (player1_decision==1 and player2_decision==3):\n",
    "            print(\"Player 1 is the winner!!!\\n\")\n",
    "            flag=0\n",
    "        if(player1_decision==player2_decision):\n",
    "            print(\"It is a tie\\n\")\n",
    "            flag=1\n",
    "        if((player2_decision-player1_decision==1) or (player2_decision==1 and player1_decision==3)):\n",
    "            print(\"Player 2 is the winner!!!\\n\")\n",
    "            flag=0\n",
    "        if(flag==0):\n",
    "            print(\"Do you wanna play again?\\nIf you answer is yes, print 1, if no, print 0\\n\")\n",
    "            decision=int(input())\n",
    "print(\"THE END\")"
   ]
  },
  {
   "cell_type": "markdown",
   "metadata": {},
   "source": [
    "# Task 9"
   ]
  },
  {
   "cell_type": "code",
   "execution_count": null,
   "metadata": {},
   "outputs": [],
   "source": [
    "import numpy as np\n",
    "import time\n",
    "import math\n",
    "import csv\n",
    "import random\n",
    "random_numb=0\n",
    "guess=15\n",
    "flag=1\n",
    "game=50\n",
    "decision=50\n",
    "print(\"Hi, today we are playing a guessing game!\\nI will generate a number between 0 and 9 \\n\")\n",
    "print(\"Your task is to try to guess it. Let's go!\\n Print 1 when you are ready.\")\n",
    "while(decision!=0):\n",
    "    while (game!=1):\n",
    "        game=int(input())\n",
    "    if(game==1):\n",
    "        random_numb=random.randint(0,9)\n",
    "    print(\"All right, my number is ready. Don't try to cheat, it is impossible hahahahahaha\\n\")\n",
    "    print(\"Input the number you are thinking of\\n\")\n",
    "    while(flag==1):\n",
    "        guess=int(input())\n",
    "        if(guess==random_numb):\n",
    "            flag=0\n",
    "            print(\"You are correct\\n\")\n",
    "        else:\n",
    "            flag=1\n",
    "            print(\"Incorrect, try again\\n\")\n",
    "    print(\"Good job! You wanna try again?\\nPrint 1 to continue or 0 to end\")\n",
    "    decision=int(input())\n",
    "    flag=1\n",
    "print(\"END\")\n"
   ]
  },
  {
   "cell_type": "markdown",
   "metadata": {},
   "source": [
    "# Task 13"
   ]
  },
  {
   "cell_type": "code",
   "execution_count": 5,
   "metadata": {},
   "outputs": [
    {
     "name": "stdout",
     "output_type": "stream",
     "text": [
      "Сколько чисел вам надо?\n",
      "5\n",
      "[1, 1, 2, 3, 5]\n"
     ]
    }
   ],
   "source": [
    "import numpy as np\n",
    "import time\n",
    "import math\n",
    "import csv\n",
    "\n",
    "quantity=0\n",
    "x=[]\n",
    "res=0\n",
    "print(\"Сколько чисел вам надо?\")\n",
    "quantity=int(input())\n",
    "x.append(1)\n",
    "x.append(1)\n",
    "for i in range(quantity):\n",
    "    if(i>1):\n",
    "        res=x[i-1]+x[i-2]\n",
    "        x.append(res)\n",
    "print(x)"
   ]
  },
  {
   "cell_type": "markdown",
   "metadata": {},
   "source": [
    "# Task 4"
   ]
  },
  {
   "cell_type": "code",
   "execution_count": 4,
   "metadata": {},
   "outputs": [
    {
     "name": "stdout",
     "output_type": "stream",
     "text": [
      "Введите ваше число\n",
      "10\n",
      "[2, 5]\n"
     ]
    }
   ],
   "source": [
    "import numpy as np\n",
    "import time\n",
    "import math\n",
    "\n",
    "def isInt(n):\n",
    "    return int(n) == float(n)\n",
    "\n",
    "number=0\n",
    "res=0\n",
    "x=[]\n",
    "print(\"Введите ваше число\")\n",
    "number=int(input())\n",
    "for i in range(number):\n",
    "    if(i!=0):\n",
    "        res=number/i\n",
    "        if(isInt(res)==True):\n",
    "            if(i!=1):\n",
    "                x.append(i)\n",
    "print(x)"
   ]
  },
  {
   "cell_type": "markdown",
   "metadata": {},
   "source": [
    "# Task 3"
   ]
  },
  {
   "cell_type": "code",
   "execution_count": 7,
   "metadata": {},
   "outputs": [
    {
     "name": "stdout",
     "output_type": "stream",
     "text": [
      "Хотите ли вы добавить элемент\n",
      "1\n",
      "1\n",
      "Хотите ли вы добавить элемент\n",
      "1\n",
      "2\n",
      "Хотите ли вы добавить элемент\n",
      "1\n",
      "6\n",
      "Хотите ли вы добавить элемент\n",
      "1\n",
      "7\n",
      "Хотите ли вы добавить элемент\n",
      "0\n",
      "[1, 2, 6, 7]\n",
      "[1, 2]\n"
     ]
    }
   ],
   "source": [
    "import numpy as np\n",
    "import time\n",
    "import math\n",
    "import csv\n",
    "\n",
    "def isInt(n):\n",
    "    return int(n) == float(n)\n",
    "\n",
    "flag=1\n",
    "y=[]\n",
    "while(flag==1):\n",
    "    print(\"Хотите ли вы добавить элемент\")\n",
    "    decision=int(input())\n",
    "    if(decision==1):\n",
    "        elem=int(input())\n",
    "        y.append(elem)\n",
    "    if(decision==0):\n",
    "        flag=0\n",
    "print(y)\n",
    "n=len(y)\n",
    "p=[]\n",
    "for i in range(n):\n",
    "    if(y[i]<5):\n",
    "        p.append(y[i])\n",
    "print(p)"
   ]
  },
  {
   "cell_type": "code",
   "execution_count": null,
   "metadata": {},
   "outputs": [],
   "source": []
  }
 ],
 "metadata": {
  "kernelspec": {
   "display_name": "Python 3",
   "language": "python",
   "name": "python3"
  },
  "language_info": {
   "codemirror_mode": {
    "name": "ipython",
    "version": 3
   },
   "file_extension": ".py",
   "mimetype": "text/x-python",
   "name": "python",
   "nbconvert_exporter": "python",
   "pygments_lexer": "ipython3",
   "version": "3.7.3"
  }
 },
 "nbformat": 4,
 "nbformat_minor": 2
}
